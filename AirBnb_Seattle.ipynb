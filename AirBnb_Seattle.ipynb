{
 "cells": [
  {
   "cell_type": "markdown",
   "metadata": {},
   "source": [
    "## DataScience_Nanodegree_p1-Seattle_Airbnb"
   ]
  },
  {
   "cell_type": "markdown",
   "metadata": {},
   "source": [
    "### 1. Business understanding"
   ]
  },
  {
   "cell_type": "markdown",
   "metadata": {},
   "source": [
    "This dataset contains a list of apartments available on the booking service Airbnb for the city of Seattle along with useful information such as price, neighborhood, etc. We can use this data to answer the following question:\n",
    " - Whats the cheapest time of the year to travel to Seattle and how does it match with the booking volume?\n",
    " - What are the most expensive / cheapest neighborhoods?\n",
    " - What are the most relevant price factors?"
   ]
  },
  {
   "cell_type": "markdown",
   "metadata": {},
   "source": [
    "### 2. Data understanding"
   ]
  },
  {
   "cell_type": "markdown",
   "metadata": {},
   "source": [
    "#### 2.1 Importing and loading the data"
   ]
  },
  {
   "cell_type": "code",
   "execution_count": 107,
   "metadata": {},
   "outputs": [],
   "source": [
    "import numpy as np\n",
    "import pandas as pd\n",
    "from matplotlib import pyplot as plt\n",
    "import matplotlib.lines as mlines\n",
    "%matplotlib inline"
   ]
  },
  {
   "cell_type": "code",
   "execution_count": 108,
   "metadata": {},
   "outputs": [],
   "source": [
    "df_cal=pd.read_csv('calendar.csv')\n",
    "df_listing=pd.read_csv('listings.csv')"
   ]
  },
  {
   "cell_type": "markdown",
   "metadata": {},
   "source": [
    "#### 2.2 Get a first glance on the data"
   ]
  },
  {
   "cell_type": "code",
   "execution_count": 109,
   "metadata": {},
   "outputs": [
    {
     "name": "stdout",
     "output_type": "stream",
     "text": [
      "Shape of listing:  (3818, 92)\n",
      "Shape of calender:  (1393570, 4)\n"
     ]
    }
   ],
   "source": [
    "print(\"Shape of listing: \", str(df_listing.shape))\n",
    "print(\"Shape of calender: \", str(df_cal.shape))"
   ]
  },
  {
   "cell_type": "code",
   "execution_count": 110,
   "metadata": {},
   "outputs": [
    {
     "data": {
      "text/html": [
       "<div>\n",
       "<style scoped>\n",
       "    .dataframe tbody tr th:only-of-type {\n",
       "        vertical-align: middle;\n",
       "    }\n",
       "\n",
       "    .dataframe tbody tr th {\n",
       "        vertical-align: top;\n",
       "    }\n",
       "\n",
       "    .dataframe thead th {\n",
       "        text-align: right;\n",
       "    }\n",
       "</style>\n",
       "<table border=\"1\" class=\"dataframe\">\n",
       "  <thead>\n",
       "    <tr style=\"text-align: right;\">\n",
       "      <th></th>\n",
       "      <th>listing_id</th>\n",
       "      <th>date</th>\n",
       "      <th>available</th>\n",
       "      <th>price</th>\n",
       "    </tr>\n",
       "  </thead>\n",
       "  <tbody>\n",
       "    <tr>\n",
       "      <th>0</th>\n",
       "      <td>241032</td>\n",
       "      <td>2016-01-04</td>\n",
       "      <td>t</td>\n",
       "      <td>$85.00</td>\n",
       "    </tr>\n",
       "    <tr>\n",
       "      <th>1</th>\n",
       "      <td>241032</td>\n",
       "      <td>2016-01-05</td>\n",
       "      <td>t</td>\n",
       "      <td>$85.00</td>\n",
       "    </tr>\n",
       "    <tr>\n",
       "      <th>2</th>\n",
       "      <td>241032</td>\n",
       "      <td>2016-01-06</td>\n",
       "      <td>f</td>\n",
       "      <td>NaN</td>\n",
       "    </tr>\n",
       "    <tr>\n",
       "      <th>3</th>\n",
       "      <td>241032</td>\n",
       "      <td>2016-01-07</td>\n",
       "      <td>f</td>\n",
       "      <td>NaN</td>\n",
       "    </tr>\n",
       "    <tr>\n",
       "      <th>4</th>\n",
       "      <td>241032</td>\n",
       "      <td>2016-01-08</td>\n",
       "      <td>f</td>\n",
       "      <td>NaN</td>\n",
       "    </tr>\n",
       "  </tbody>\n",
       "</table>\n",
       "</div>"
      ],
      "text/plain": [
       "   listing_id        date available   price\n",
       "0      241032  2016-01-04         t  $85.00\n",
       "1      241032  2016-01-05         t  $85.00\n",
       "2      241032  2016-01-06         f     NaN\n",
       "3      241032  2016-01-07         f     NaN\n",
       "4      241032  2016-01-08         f     NaN"
      ]
     },
     "execution_count": 110,
     "metadata": {},
     "output_type": "execute_result"
    }
   ],
   "source": [
    "df_cal.head()"
   ]
  },
  {
   "cell_type": "code",
   "execution_count": 111,
   "metadata": {},
   "outputs": [
    {
     "data": {
      "text/html": [
       "<div>\n",
       "<style scoped>\n",
       "    .dataframe tbody tr th:only-of-type {\n",
       "        vertical-align: middle;\n",
       "    }\n",
       "\n",
       "    .dataframe tbody tr th {\n",
       "        vertical-align: top;\n",
       "    }\n",
       "\n",
       "    .dataframe thead th {\n",
       "        text-align: right;\n",
       "    }\n",
       "</style>\n",
       "<table border=\"1\" class=\"dataframe\">\n",
       "  <thead>\n",
       "    <tr style=\"text-align: right;\">\n",
       "      <th></th>\n",
       "      <th>id</th>\n",
       "      <th>listing_url</th>\n",
       "      <th>scrape_id</th>\n",
       "      <th>last_scraped</th>\n",
       "      <th>name</th>\n",
       "      <th>summary</th>\n",
       "      <th>space</th>\n",
       "      <th>description</th>\n",
       "      <th>experiences_offered</th>\n",
       "      <th>neighborhood_overview</th>\n",
       "      <th>...</th>\n",
       "      <th>review_scores_value</th>\n",
       "      <th>requires_license</th>\n",
       "      <th>license</th>\n",
       "      <th>jurisdiction_names</th>\n",
       "      <th>instant_bookable</th>\n",
       "      <th>cancellation_policy</th>\n",
       "      <th>require_guest_profile_picture</th>\n",
       "      <th>require_guest_phone_verification</th>\n",
       "      <th>calculated_host_listings_count</th>\n",
       "      <th>reviews_per_month</th>\n",
       "    </tr>\n",
       "  </thead>\n",
       "  <tbody>\n",
       "    <tr>\n",
       "      <th>0</th>\n",
       "      <td>241032</td>\n",
       "      <td>https://www.airbnb.com/rooms/241032</td>\n",
       "      <td>20160104002432</td>\n",
       "      <td>2016-01-04</td>\n",
       "      <td>Stylish Queen Anne Apartment</td>\n",
       "      <td>NaN</td>\n",
       "      <td>Make your self at home in this charming one-be...</td>\n",
       "      <td>Make your self at home in this charming one-be...</td>\n",
       "      <td>none</td>\n",
       "      <td>NaN</td>\n",
       "      <td>...</td>\n",
       "      <td>10.0</td>\n",
       "      <td>f</td>\n",
       "      <td>NaN</td>\n",
       "      <td>WASHINGTON</td>\n",
       "      <td>f</td>\n",
       "      <td>moderate</td>\n",
       "      <td>f</td>\n",
       "      <td>f</td>\n",
       "      <td>2</td>\n",
       "      <td>4.07</td>\n",
       "    </tr>\n",
       "    <tr>\n",
       "      <th>1</th>\n",
       "      <td>953595</td>\n",
       "      <td>https://www.airbnb.com/rooms/953595</td>\n",
       "      <td>20160104002432</td>\n",
       "      <td>2016-01-04</td>\n",
       "      <td>Bright &amp; Airy Queen Anne Apartment</td>\n",
       "      <td>Chemically sensitive? We've removed the irrita...</td>\n",
       "      <td>Beautiful, hypoallergenic apartment in an extr...</td>\n",
       "      <td>Chemically sensitive? We've removed the irrita...</td>\n",
       "      <td>none</td>\n",
       "      <td>Queen Anne is a wonderful, truly functional vi...</td>\n",
       "      <td>...</td>\n",
       "      <td>10.0</td>\n",
       "      <td>f</td>\n",
       "      <td>NaN</td>\n",
       "      <td>WASHINGTON</td>\n",
       "      <td>f</td>\n",
       "      <td>strict</td>\n",
       "      <td>t</td>\n",
       "      <td>t</td>\n",
       "      <td>6</td>\n",
       "      <td>1.48</td>\n",
       "    </tr>\n",
       "    <tr>\n",
       "      <th>2</th>\n",
       "      <td>3308979</td>\n",
       "      <td>https://www.airbnb.com/rooms/3308979</td>\n",
       "      <td>20160104002432</td>\n",
       "      <td>2016-01-04</td>\n",
       "      <td>New Modern House-Amazing water view</td>\n",
       "      <td>New modern house built in 2013.  Spectacular s...</td>\n",
       "      <td>Our house is modern, light and fresh with a wa...</td>\n",
       "      <td>New modern house built in 2013.  Spectacular s...</td>\n",
       "      <td>none</td>\n",
       "      <td>Upper Queen Anne is a charming neighborhood fu...</td>\n",
       "      <td>...</td>\n",
       "      <td>10.0</td>\n",
       "      <td>f</td>\n",
       "      <td>NaN</td>\n",
       "      <td>WASHINGTON</td>\n",
       "      <td>f</td>\n",
       "      <td>strict</td>\n",
       "      <td>f</td>\n",
       "      <td>f</td>\n",
       "      <td>2</td>\n",
       "      <td>1.15</td>\n",
       "    </tr>\n",
       "    <tr>\n",
       "      <th>3</th>\n",
       "      <td>7421966</td>\n",
       "      <td>https://www.airbnb.com/rooms/7421966</td>\n",
       "      <td>20160104002432</td>\n",
       "      <td>2016-01-04</td>\n",
       "      <td>Queen Anne Chateau</td>\n",
       "      <td>A charming apartment that sits atop Queen Anne...</td>\n",
       "      <td>NaN</td>\n",
       "      <td>A charming apartment that sits atop Queen Anne...</td>\n",
       "      <td>none</td>\n",
       "      <td>NaN</td>\n",
       "      <td>...</td>\n",
       "      <td>NaN</td>\n",
       "      <td>f</td>\n",
       "      <td>NaN</td>\n",
       "      <td>WASHINGTON</td>\n",
       "      <td>f</td>\n",
       "      <td>flexible</td>\n",
       "      <td>f</td>\n",
       "      <td>f</td>\n",
       "      <td>1</td>\n",
       "      <td>NaN</td>\n",
       "    </tr>\n",
       "    <tr>\n",
       "      <th>4</th>\n",
       "      <td>278830</td>\n",
       "      <td>https://www.airbnb.com/rooms/278830</td>\n",
       "      <td>20160104002432</td>\n",
       "      <td>2016-01-04</td>\n",
       "      <td>Charming craftsman 3 bdm house</td>\n",
       "      <td>Cozy family craftman house in beautiful neighb...</td>\n",
       "      <td>Cozy family craftman house in beautiful neighb...</td>\n",
       "      <td>Cozy family craftman house in beautiful neighb...</td>\n",
       "      <td>none</td>\n",
       "      <td>We are in the beautiful neighborhood of Queen ...</td>\n",
       "      <td>...</td>\n",
       "      <td>9.0</td>\n",
       "      <td>f</td>\n",
       "      <td>NaN</td>\n",
       "      <td>WASHINGTON</td>\n",
       "      <td>f</td>\n",
       "      <td>strict</td>\n",
       "      <td>f</td>\n",
       "      <td>f</td>\n",
       "      <td>1</td>\n",
       "      <td>0.89</td>\n",
       "    </tr>\n",
       "  </tbody>\n",
       "</table>\n",
       "<p>5 rows × 92 columns</p>\n",
       "</div>"
      ],
      "text/plain": [
       "        id                           listing_url       scrape_id last_scraped  \\\n",
       "0   241032   https://www.airbnb.com/rooms/241032  20160104002432   2016-01-04   \n",
       "1   953595   https://www.airbnb.com/rooms/953595  20160104002432   2016-01-04   \n",
       "2  3308979  https://www.airbnb.com/rooms/3308979  20160104002432   2016-01-04   \n",
       "3  7421966  https://www.airbnb.com/rooms/7421966  20160104002432   2016-01-04   \n",
       "4   278830   https://www.airbnb.com/rooms/278830  20160104002432   2016-01-04   \n",
       "\n",
       "                                  name  \\\n",
       "0         Stylish Queen Anne Apartment   \n",
       "1   Bright & Airy Queen Anne Apartment   \n",
       "2  New Modern House-Amazing water view   \n",
       "3                   Queen Anne Chateau   \n",
       "4       Charming craftsman 3 bdm house   \n",
       "\n",
       "                                             summary  \\\n",
       "0                                                NaN   \n",
       "1  Chemically sensitive? We've removed the irrita...   \n",
       "2  New modern house built in 2013.  Spectacular s...   \n",
       "3  A charming apartment that sits atop Queen Anne...   \n",
       "4  Cozy family craftman house in beautiful neighb...   \n",
       "\n",
       "                                               space  \\\n",
       "0  Make your self at home in this charming one-be...   \n",
       "1  Beautiful, hypoallergenic apartment in an extr...   \n",
       "2  Our house is modern, light and fresh with a wa...   \n",
       "3                                                NaN   \n",
       "4  Cozy family craftman house in beautiful neighb...   \n",
       "\n",
       "                                         description experiences_offered  \\\n",
       "0  Make your self at home in this charming one-be...                none   \n",
       "1  Chemically sensitive? We've removed the irrita...                none   \n",
       "2  New modern house built in 2013.  Spectacular s...                none   \n",
       "3  A charming apartment that sits atop Queen Anne...                none   \n",
       "4  Cozy family craftman house in beautiful neighb...                none   \n",
       "\n",
       "                               neighborhood_overview  ... review_scores_value  \\\n",
       "0                                                NaN  ...                10.0   \n",
       "1  Queen Anne is a wonderful, truly functional vi...  ...                10.0   \n",
       "2  Upper Queen Anne is a charming neighborhood fu...  ...                10.0   \n",
       "3                                                NaN  ...                 NaN   \n",
       "4  We are in the beautiful neighborhood of Queen ...  ...                 9.0   \n",
       "\n",
       "  requires_license license jurisdiction_names instant_bookable  \\\n",
       "0                f     NaN         WASHINGTON                f   \n",
       "1                f     NaN         WASHINGTON                f   \n",
       "2                f     NaN         WASHINGTON                f   \n",
       "3                f     NaN         WASHINGTON                f   \n",
       "4                f     NaN         WASHINGTON                f   \n",
       "\n",
       "  cancellation_policy  require_guest_profile_picture  \\\n",
       "0            moderate                              f   \n",
       "1              strict                              t   \n",
       "2              strict                              f   \n",
       "3            flexible                              f   \n",
       "4              strict                              f   \n",
       "\n",
       "  require_guest_phone_verification calculated_host_listings_count  \\\n",
       "0                                f                              2   \n",
       "1                                t                              6   \n",
       "2                                f                              2   \n",
       "3                                f                              1   \n",
       "4                                f                              1   \n",
       "\n",
       "  reviews_per_month  \n",
       "0              4.07  \n",
       "1              1.48  \n",
       "2              1.15  \n",
       "3               NaN  \n",
       "4              0.89  \n",
       "\n",
       "[5 rows x 92 columns]"
      ]
     },
     "execution_count": 111,
     "metadata": {},
     "output_type": "execute_result"
    }
   ],
   "source": [
    "df_listing.head()"
   ]
  },
  {
   "cell_type": "code",
   "execution_count": 112,
   "metadata": {},
   "outputs": [
    {
     "data": {
      "text/plain": [
       "Index(['id', 'listing_url', 'scrape_id', 'last_scraped', 'name', 'summary',\n",
       "       'space', 'description', 'experiences_offered', 'neighborhood_overview',\n",
       "       'notes', 'transit', 'thumbnail_url', 'medium_url', 'picture_url',\n",
       "       'xl_picture_url', 'host_id', 'host_url', 'host_name', 'host_since',\n",
       "       'host_location', 'host_about', 'host_response_time',\n",
       "       'host_response_rate', 'host_acceptance_rate', 'host_is_superhost',\n",
       "       'host_thumbnail_url', 'host_picture_url', 'host_neighbourhood',\n",
       "       'host_listings_count', 'host_total_listings_count',\n",
       "       'host_verifications', 'host_has_profile_pic', 'host_identity_verified',\n",
       "       'street', 'neighbourhood', 'neighbourhood_cleansed',\n",
       "       'neighbourhood_group_cleansed', 'city', 'state', 'zipcode', 'market',\n",
       "       'smart_location', 'country_code', 'country', 'latitude', 'longitude',\n",
       "       'is_location_exact', 'property_type', 'room_type', 'accommodates',\n",
       "       'bathrooms', 'bedrooms', 'beds', 'bed_type', 'amenities', 'square_feet',\n",
       "       'price', 'weekly_price', 'monthly_price', 'security_deposit',\n",
       "       'cleaning_fee', 'guests_included', 'extra_people', 'minimum_nights',\n",
       "       'maximum_nights', 'calendar_updated', 'has_availability',\n",
       "       'availability_30', 'availability_60', 'availability_90',\n",
       "       'availability_365', 'calendar_last_scraped', 'number_of_reviews',\n",
       "       'first_review', 'last_review', 'review_scores_rating',\n",
       "       'review_scores_accuracy', 'review_scores_cleanliness',\n",
       "       'review_scores_checkin', 'review_scores_communication',\n",
       "       'review_scores_location', 'review_scores_value', 'requires_license',\n",
       "       'license', 'jurisdiction_names', 'instant_bookable',\n",
       "       'cancellation_policy', 'require_guest_profile_picture',\n",
       "       'require_guest_phone_verification', 'calculated_host_listings_count',\n",
       "       'reviews_per_month'],\n",
       "      dtype='object')"
      ]
     },
     "execution_count": 112,
     "metadata": {},
     "output_type": "execute_result"
    }
   ],
   "source": [
    "df_listing.columns"
   ]
  },
  {
   "cell_type": "markdown",
   "metadata": {},
   "source": [
    "#### 2.3 Further data exploration and preparation"
   ]
  },
  {
   "cell_type": "markdown",
   "metadata": {},
   "source": [
    "First we check the datatypes of the columns in df_cal"
   ]
  },
  {
   "cell_type": "code",
   "execution_count": 113,
   "metadata": {},
   "outputs": [
    {
     "data": {
      "text/plain": [
       "listing_id     int64\n",
       "date          object\n",
       "available     object\n",
       "price         object\n",
       "dtype: object"
      ]
     },
     "execution_count": 113,
     "metadata": {},
     "output_type": "execute_result"
    }
   ],
   "source": [
    "df_cal.dtypes"
   ]
  },
  {
   "cell_type": "markdown",
   "metadata": {},
   "source": [
    "It seems that we have to clean up the price and convert it to a number:"
   ]
  },
  {
   "cell_type": "code",
   "execution_count": 114,
   "metadata": {},
   "outputs": [],
   "source": [
    "df_cal['price'] = df_cal['price'].str.replace(\"$\",\"\").str.replace(\",\",\"\")\n",
    "df_cal['price'] = df_cal['price'].astype(np.float64)"
   ]
  },
  {
   "cell_type": "markdown",
   "metadata": {},
   "source": [
    "### 4. Try to answer the asked questions"
   ]
  },
  {
   "cell_type": "markdown",
   "metadata": {},
   "source": [
    "#### 4.1 Whats the cheapest time of the year to travel to Seattle?"
   ]
  },
  {
   "cell_type": "markdown",
   "metadata": {},
   "source": [
    "To answer the first question we just have to group the price by each month, average the result and plot it. But befor we can do that we have to convert the date column to a datetime-object and create a 'month' column in the dataframe"
   ]
  },
  {
   "cell_type": "raw",
   "metadata": {},
   "source": [
    "To answer the first question we just have to group the price by each month, average the result and plot it. But befor we can do that we have to create a 'Month' column in the dataframe"
   ]
  },
  {
   "cell_type": "code",
   "execution_count": 115,
   "metadata": {},
   "outputs": [],
   "source": [
    "df_cal['date'] = pd.to_datetime(df_cal['date'])\n",
    "df_cal['month'] = pd.DatetimeIndex(df_cal['date']).month"
   ]
  },
  {
   "cell_type": "code",
   "execution_count": 116,
   "metadata": {},
   "outputs": [
    {
     "data": {
      "text/plain": [
       "12    118358\n",
       "10    118358\n",
       "8     118358\n",
       "7     118358\n",
       "5     118358\n",
       "3     118358\n",
       "11    114540\n",
       "9     114540\n",
       "6     114540\n",
       "4     114540\n",
       "1     114540\n",
       "2     110722\n",
       "Name: month, dtype: int64"
      ]
     },
     "execution_count": 116,
     "metadata": {},
     "output_type": "execute_result"
    }
   ],
   "source": [
    "df_cal['month'].value_counts()"
   ]
  },
  {
   "cell_type": "code",
   "execution_count": 117,
   "metadata": {},
   "outputs": [],
   "source": [
    "mean_price_per_month = df_cal.groupby('month').mean()"
   ]
  },
  {
   "cell_type": "code",
   "execution_count": 118,
   "metadata": {},
   "outputs": [],
   "source": [
    "months = ['Jan', 'Feb', 'Mar', 'Apr', 'May', 'Jun', 'Jul', 'Aug', 'Sep', 'Oct', 'Nov', 'Dez']"
   ]
  },
  {
   "cell_type": "code",
   "execution_count": 119,
   "metadata": {},
   "outputs": [
    {
     "data": {
      "text/plain": [
       "[<matplotlib.lines.Line2D at 0x1609b5db548>]"
      ]
     },
     "execution_count": 119,
     "metadata": {},
     "output_type": "execute_result"
    },
    {
     "data": {
      "image/png": "[encoded data removed]",
      "text/plain": [
       "<Figure size 432x288 with 1 Axes>"
      ]
     },
     "metadata": {
      "needs_background": "light"
     },
     "output_type": "display_data"
    }
   ],
   "source": [
    "plt.plot(months, mean_price_per_month['price'])"
   ]
  },
  {
   "cell_type": "markdown",
   "metadata": {},
   "source": [
    "We can clearly see that the most expensive time of the year is in the summer around July. Also there is a little upward trend before christmas. Conversely the cheapest time of the year is in the beginning of the year."
   ]
  },
  {
   "cell_type": "markdown",
   "metadata": {},
   "source": [
    "To check the occupancy we go through each month and check the occupancy respectively"
   ]
  },
  {
   "cell_type": "code",
   "execution_count": 120,
   "metadata": {},
   "outputs": [],
   "source": [
    "d = {'f': False, 't': True}\n",
    "df_cal.loc[:,'available'] = df_cal.loc[:,'available'].map(d)"
   ]
  },
  {
   "cell_type": "code",
   "execution_count": 121,
   "metadata": {},
   "outputs": [
    {
     "data": {
      "text/plain": [
       "Jan    0.433063\n",
       "Feb    0.337792\n",
       "Mar    0.290813\n",
       "Apr    0.336153\n",
       "May    0.324330\n",
       "Jun    0.325616\n",
       "Jul    0.372903\n",
       "Aug    0.354949\n",
       "Sep    0.325598\n",
       "Oct    0.303486\n",
       "Nov    0.286014\n",
       "Dez    0.264427\n",
       "dtype: float64"
      ]
     },
     "execution_count": 121,
     "metadata": {},
     "output_type": "execute_result"
    }
   ],
   "source": [
    "occupancies = pd.Series(index=months, dtype=np.float64)\n",
    "for i, month in enumerate(months):\n",
    "    occupancies[month] = 1 - df_cal.loc[df_cal['month']==i+1, 'available'].mean() # 1-x, because it's the mean of availability and not occupancy\n",
    "occupancies"
   ]
  },
  {
   "cell_type": "code",
   "execution_count": 122,
   "metadata": {},
   "outputs": [
    {
     "data": {
      "image/png": "[encoded data removed]",
      "text/plain": [
       "<Figure size 432x288 with 2 Axes>"
      ]
     },
     "metadata": {
      "needs_background": "light"
     },
     "output_type": "display_data"
    }
   ],
   "source": [
    "fig, ax1 = plt.subplots()\n",
    "\n",
    "color = 'tab:red'\n",
    "ax1.set_xlabel('Month')\n",
    "ax1.set_ylabel('Occupancy', color=color)\n",
    "lns1 = ax1.plot(months, occupancies, color=color, label='Occupancy')\n",
    "ax1.tick_params(axis='y', labelcolor=color)\n",
    "line1 = mlines.Line2D([], [], color=color, label='Occupancy')\n",
    "\n",
    "ax2 = ax1.twinx()  # instantiate a second axes that shares the same x-axis\n",
    "color = 'tab:blue'\n",
    "ax2.set_ylabel('Price in USD', color=color)  # we already handled the x-label with ax1\n",
    "ax2.plot(months, mean_price_per_month['price'], color=color, label='Price in USD')\n",
    "ax2.tick_params(axis='y', labelcolor=color)\n",
    "line2 = mlines.Line2D([], [], color=color, label='Price in USD')\n",
    "\n",
    "plt.legend(handles=[line1, line2])\n",
    "plt.savefig('occupancy.png', dpi=300, bbox_inches='tight')"
   ]
  },
  {
   "cell_type": "markdown",
   "metadata": {},
   "source": [
    "#### 4.2 Whats the most expensive / cheapest neighbourhood"
   ]
  },
  {
   "cell_type": "markdown",
   "metadata": {},
   "source": [
    "In order to answer this question we first have to take a look at the different entries in the neighbourhoodcolumn and see if it needs some cleanup."
   ]
  },
  {
   "cell_type": "code",
   "execution_count": 123,
   "metadata": {},
   "outputs": [
    {
     "data": {
      "text/plain": [
       "array(['West Queen Anne', 'Adams', 'West Woodland', 'East Queen Anne',\n",
       "       'Wallingford', 'North Queen Anne', 'Green Lake', 'Westlake',\n",
       "       'Mann', 'Madrona', 'University District', 'Harrison/Denny-Blaine',\n",
       "       'Minor', 'Leschi', 'Atlantic', 'Pike-Market', 'Eastlake',\n",
       "       'South Lake Union', 'Lawton Park', 'Briarcliff', 'Belltown',\n",
       "       'International District', 'Central Business District',\n",
       "       'First Hill', 'Yesler Terrace', 'Pioneer Square', 'Gatewood',\n",
       "       'Arbor Heights', 'Alki', 'North Admiral', 'Crown Hill',\n",
       "       'Fairmount Park', 'Genesee', 'Interbay', 'Industrial District',\n",
       "       'Mid-Beacon Hill', 'South Beacon Hill', 'Greenwood', 'Holly Park',\n",
       "       'Fauntleroy', 'North Beacon Hill', 'Mount Baker', 'Brighton',\n",
       "       'South Delridge', 'View Ridge', 'Dunlap', 'Rainier Beach',\n",
       "       'Columbia City', 'Seward Park', 'North Delridge', 'Maple Leaf',\n",
       "       'Ravenna', 'Riverview', 'Portage Bay', 'Bryant', 'Montlake',\n",
       "       'Broadway', 'Loyal Heights', 'Victory Heights', 'Matthews Beach',\n",
       "       'Whittier Heights', 'Meadowbrook', 'Olympic Hills', 'Roosevelt',\n",
       "       'Lower Queen Anne', 'Wedgwood', 'North Beach/Blue Ridge',\n",
       "       'Cedar Park', 'Bitter Lake', 'Sunset Hill', 'Haller Lake',\n",
       "       'Pinehurst', 'North College Park', 'Phinney Ridge', 'Windermere',\n",
       "       'Laurelhurst', 'Southeast Magnolia', 'High Point', 'Seaview',\n",
       "       'Georgetown', 'South Park', 'Roxhill', 'Highland Park',\n",
       "       'Madison Park', 'Stevens', 'Broadview', 'Fremont'], dtype=object)"
      ]
     },
     "execution_count": 123,
     "metadata": {},
     "output_type": "execute_result"
    }
   ],
   "source": [
    "df_listing['neighbourhood_cleansed'].unique()"
   ]
  },
  {
   "cell_type": "markdown",
   "metadata": {},
   "source": [
    "Seems about right. So now we just have to map the neighbourhood to the listing in the df_cal-dataframe and group it by the neighbourhood."
   ]
  },
  {
   "cell_type": "code",
   "execution_count": 124,
   "metadata": {},
   "outputs": [],
   "source": [
    "df_listing.rename(columns={'id': 'listing_id'}, inplace=True)"
   ]
  },
  {
   "cell_type": "code",
   "execution_count": 125,
   "metadata": {},
   "outputs": [],
   "source": [
    "df_cal = df_cal.merge(df_listing[['listing_id','neighbourhood_cleansed']], on='listing_id')"
   ]
  },
  {
   "cell_type": "code",
   "execution_count": 126,
   "metadata": {},
   "outputs": [],
   "source": [
    "mean_price_per_neighbourhood = df_cal.groupby('neighbourhood_cleansed').mean().sort_values('price', ascending=False)"
   ]
  },
  {
   "cell_type": "code",
   "execution_count": 127,
   "metadata": {},
   "outputs": [
    {
     "data": {
      "text/plain": [
       "listing_id    5.521046e+06\n",
       "available     6.242829e-01\n",
       "price         2.014728e+02\n",
       "month         6.528767e+00\n",
       "Name: Belltown, dtype: float64"
      ]
     },
     "execution_count": 127,
     "metadata": {},
     "output_type": "execute_result"
    }
   ],
   "source": [
    "mean_price_per_neighbourhood.loc['Belltown']"
   ]
  },
  {
   "cell_type": "code",
   "execution_count": 128,
   "metadata": {},
   "outputs": [
    {
     "data": {
      "text/html": [
       "<div>\n",
       "<style scoped>\n",
       "    .dataframe tbody tr th:only-of-type {\n",
       "        vertical-align: middle;\n",
       "    }\n",
       "\n",
       "    .dataframe tbody tr th {\n",
       "        vertical-align: top;\n",
       "    }\n",
       "\n",
       "    .dataframe thead th {\n",
       "        text-align: right;\n",
       "    }\n",
       "</style>\n",
       "<table border=\"1\" class=\"dataframe\">\n",
       "  <thead>\n",
       "    <tr style=\"text-align: right;\">\n",
       "      <th></th>\n",
       "      <th>price</th>\n",
       "    </tr>\n",
       "    <tr>\n",
       "      <th>neighbourhood_cleansed</th>\n",
       "      <th></th>\n",
       "    </tr>\n",
       "  </thead>\n",
       "  <tbody>\n",
       "    <tr>\n",
       "      <th>Southeast Magnolia</th>\n",
       "      <td>242.077181</td>\n",
       "    </tr>\n",
       "    <tr>\n",
       "      <th>Portage Bay</th>\n",
       "      <td>235.960789</td>\n",
       "    </tr>\n",
       "    <tr>\n",
       "      <th>Westlake</th>\n",
       "      <td>229.757911</td>\n",
       "    </tr>\n",
       "    <tr>\n",
       "      <th>Windermere</th>\n",
       "      <td>220.630903</td>\n",
       "    </tr>\n",
       "    <tr>\n",
       "      <th>Briarcliff</th>\n",
       "      <td>216.080733</td>\n",
       "    </tr>\n",
       "    <tr>\n",
       "      <th>West Queen Anne</th>\n",
       "      <td>206.809687</td>\n",
       "    </tr>\n",
       "    <tr>\n",
       "      <th>Pike-Market</th>\n",
       "      <td>206.110835</td>\n",
       "    </tr>\n",
       "    <tr>\n",
       "      <th>Fauntleroy</th>\n",
       "      <td>205.882353</td>\n",
       "    </tr>\n",
       "    <tr>\n",
       "      <th>Central Business District</th>\n",
       "      <td>205.790701</td>\n",
       "    </tr>\n",
       "    <tr>\n",
       "      <th>Belltown</th>\n",
       "      <td>201.472843</td>\n",
       "    </tr>\n",
       "  </tbody>\n",
       "</table>\n",
       "</div>"
      ],
      "text/plain": [
       "                                price\n",
       "neighbourhood_cleansed               \n",
       "Southeast Magnolia         242.077181\n",
       "Portage Bay                235.960789\n",
       "Westlake                   229.757911\n",
       "Windermere                 220.630903\n",
       "Briarcliff                 216.080733\n",
       "West Queen Anne            206.809687\n",
       "Pike-Market                206.110835\n",
       "Fauntleroy                 205.882353\n",
       "Central Business District  205.790701\n",
       "Belltown                   201.472843"
      ]
     },
     "execution_count": 128,
     "metadata": {},
     "output_type": "execute_result"
    }
   ],
   "source": [
    "mean_price_per_neighbourhood.loc[:,'price'].to_frame().head(10)"
   ]
  },
  {
   "cell_type": "code",
   "execution_count": 129,
   "metadata": {},
   "outputs": [
    {
     "data": {
      "text/html": [
       "<div>\n",
       "<style scoped>\n",
       "    .dataframe tbody tr th:only-of-type {\n",
       "        vertical-align: middle;\n",
       "    }\n",
       "\n",
       "    .dataframe tbody tr th {\n",
       "        vertical-align: top;\n",
       "    }\n",
       "\n",
       "    .dataframe thead th {\n",
       "        text-align: right;\n",
       "    }\n",
       "</style>\n",
       "<table border=\"1\" class=\"dataframe\">\n",
       "  <thead>\n",
       "    <tr style=\"text-align: right;\">\n",
       "      <th></th>\n",
       "      <th>listing_id</th>\n",
       "      <th>available</th>\n",
       "      <th>price</th>\n",
       "      <th>month</th>\n",
       "    </tr>\n",
       "    <tr>\n",
       "      <th>neighbourhood_cleansed</th>\n",
       "      <th></th>\n",
       "      <th></th>\n",
       "      <th></th>\n",
       "      <th></th>\n",
       "    </tr>\n",
       "  </thead>\n",
       "  <tbody>\n",
       "    <tr>\n",
       "      <th>Victory Heights</th>\n",
       "      <td>4.794101e+06</td>\n",
       "      <td>0.803288</td>\n",
       "      <td>79.955207</td>\n",
       "      <td>6.528767</td>\n",
       "    </tr>\n",
       "    <tr>\n",
       "      <th>South Delridge</th>\n",
       "      <td>5.129810e+06</td>\n",
       "      <td>0.715297</td>\n",
       "      <td>76.237153</td>\n",
       "      <td>6.528767</td>\n",
       "    </tr>\n",
       "    <tr>\n",
       "      <th>Georgetown</th>\n",
       "      <td>3.712133e+06</td>\n",
       "      <td>0.765753</td>\n",
       "      <td>75.851073</td>\n",
       "      <td>6.528767</td>\n",
       "    </tr>\n",
       "    <tr>\n",
       "      <th>Rainier Beach</th>\n",
       "      <td>5.987419e+06</td>\n",
       "      <td>0.729376</td>\n",
       "      <td>75.785893</td>\n",
       "      <td>6.528767</td>\n",
       "    </tr>\n",
       "    <tr>\n",
       "      <th>Olympic Hills</th>\n",
       "      <td>5.461578e+06</td>\n",
       "      <td>0.766096</td>\n",
       "      <td>70.560796</td>\n",
       "      <td>6.528767</td>\n",
       "    </tr>\n",
       "  </tbody>\n",
       "</table>\n",
       "</div>"
      ],
      "text/plain": [
       "                          listing_id  available      price     month\n",
       "neighbourhood_cleansed                                              \n",
       "Victory Heights         4.794101e+06   0.803288  79.955207  6.528767\n",
       "South Delridge          5.129810e+06   0.715297  76.237153  6.528767\n",
       "Georgetown              3.712133e+06   0.765753  75.851073  6.528767\n",
       "Rainier Beach           5.987419e+06   0.729376  75.785893  6.528767\n",
       "Olympic Hills           5.461578e+06   0.766096  70.560796  6.528767"
      ]
     },
     "execution_count": 129,
     "metadata": {},
     "output_type": "execute_result"
    }
   ],
   "source": [
    "mean_price_per_neighbourhood.tail()    "
   ]
  },
  {
   "cell_type": "markdown",
   "metadata": {},
   "source": [
    "So the most expensive neighbourhood is Southeast Magnolia and the least expensive one is Olympic Hills. "
   ]
  },
  {
   "cell_type": "markdown",
   "metadata": {},
   "source": [
    "#### 4.3 Is the host behaviour affecting the price and availability?"
   ]
  },
  {
   "cell_type": "markdown",
   "metadata": {},
   "source": [
    "First we have to extract the host-depending columns along with the price. We won't consider non-descriptive columns such as URLs ohr the id, because they don't add information.\n",
    "\n",
    "So we'll go with these columns:"
   ]
  },
  {
   "cell_type": "code",
   "execution_count": 130,
   "metadata": {},
   "outputs": [],
   "source": [
    "df_host = df_listing[df_listing['neighbourhood_cleansed']=='Broadway'][['price', 'availability_365', 'host_response_time',\n",
    "       'host_response_rate', 'host_acceptance_rate', 'host_is_superhost',\n",
    "       'host_listings_count', 'host_total_listings_count',\n",
    "       'host_has_profile_pic', 'host_identity_verified']].copy()"
   ]
  },
  {
   "cell_type": "code",
   "execution_count": 131,
   "metadata": {},
   "outputs": [
    {
     "data": {
      "text/html": [
       "<div>\n",
       "<style scoped>\n",
       "    .dataframe tbody tr th:only-of-type {\n",
       "        vertical-align: middle;\n",
       "    }\n",
       "\n",
       "    .dataframe tbody tr th {\n",
       "        vertical-align: top;\n",
       "    }\n",
       "\n",
       "    .dataframe thead th {\n",
       "        text-align: right;\n",
       "    }\n",
       "</style>\n",
       "<table border=\"1\" class=\"dataframe\">\n",
       "  <thead>\n",
       "    <tr style=\"text-align: right;\">\n",
       "      <th></th>\n",
       "      <th>price</th>\n",
       "      <th>availability_365</th>\n",
       "      <th>host_response_time</th>\n",
       "      <th>host_response_rate</th>\n",
       "      <th>host_acceptance_rate</th>\n",
       "      <th>host_is_superhost</th>\n",
       "      <th>host_listings_count</th>\n",
       "      <th>host_total_listings_count</th>\n",
       "      <th>host_has_profile_pic</th>\n",
       "      <th>host_identity_verified</th>\n",
       "    </tr>\n",
       "  </thead>\n",
       "  <tbody>\n",
       "    <tr>\n",
       "      <th>2575</th>\n",
       "      <td>$50.00</td>\n",
       "      <td>109</td>\n",
       "      <td>NaN</td>\n",
       "      <td>NaN</td>\n",
       "      <td>NaN</td>\n",
       "      <td>f</td>\n",
       "      <td>1.0</td>\n",
       "      <td>1.0</td>\n",
       "      <td>t</td>\n",
       "      <td>f</td>\n",
       "    </tr>\n",
       "    <tr>\n",
       "      <th>2576</th>\n",
       "      <td>$59.00</td>\n",
       "      <td>365</td>\n",
       "      <td>within a few hours</td>\n",
       "      <td>100%</td>\n",
       "      <td>100%</td>\n",
       "      <td>f</td>\n",
       "      <td>2.0</td>\n",
       "      <td>2.0</td>\n",
       "      <td>t</td>\n",
       "      <td>t</td>\n",
       "    </tr>\n",
       "    <tr>\n",
       "      <th>2577</th>\n",
       "      <td>$122.00</td>\n",
       "      <td>179</td>\n",
       "      <td>within a day</td>\n",
       "      <td>50%</td>\n",
       "      <td>100%</td>\n",
       "      <td>f</td>\n",
       "      <td>1.0</td>\n",
       "      <td>1.0</td>\n",
       "      <td>t</td>\n",
       "      <td>t</td>\n",
       "    </tr>\n",
       "    <tr>\n",
       "      <th>2578</th>\n",
       "      <td>$175.00</td>\n",
       "      <td>58</td>\n",
       "      <td>within a few hours</td>\n",
       "      <td>100%</td>\n",
       "      <td>100%</td>\n",
       "      <td>f</td>\n",
       "      <td>1.0</td>\n",
       "      <td>1.0</td>\n",
       "      <td>t</td>\n",
       "      <td>t</td>\n",
       "    </tr>\n",
       "    <tr>\n",
       "      <th>2579</th>\n",
       "      <td>$69.00</td>\n",
       "      <td>352</td>\n",
       "      <td>within a few hours</td>\n",
       "      <td>100%</td>\n",
       "      <td>100%</td>\n",
       "      <td>t</td>\n",
       "      <td>1.0</td>\n",
       "      <td>1.0</td>\n",
       "      <td>t</td>\n",
       "      <td>t</td>\n",
       "    </tr>\n",
       "  </tbody>\n",
       "</table>\n",
       "</div>"
      ],
      "text/plain": [
       "        price  availability_365  host_response_time host_response_rate  \\\n",
       "2575   $50.00               109                 NaN                NaN   \n",
       "2576   $59.00               365  within a few hours               100%   \n",
       "2577  $122.00               179        within a day                50%   \n",
       "2578  $175.00                58  within a few hours               100%   \n",
       "2579   $69.00               352  within a few hours               100%   \n",
       "\n",
       "     host_acceptance_rate host_is_superhost  host_listings_count  \\\n",
       "2575                  NaN                 f                  1.0   \n",
       "2576                 100%                 f                  2.0   \n",
       "2577                 100%                 f                  1.0   \n",
       "2578                 100%                 f                  1.0   \n",
       "2579                 100%                 t                  1.0   \n",
       "\n",
       "      host_total_listings_count host_has_profile_pic host_identity_verified  \n",
       "2575                        1.0                    t                      f  \n",
       "2576                        2.0                    t                      t  \n",
       "2577                        1.0                    t                      t  \n",
       "2578                        1.0                    t                      t  \n",
       "2579                        1.0                    t                      t  "
      ]
     },
     "execution_count": 131,
     "metadata": {},
     "output_type": "execute_result"
    }
   ],
   "source": [
    "df_host.head()"
   ]
  },
  {
   "cell_type": "markdown",
   "metadata": {},
   "source": [
    "Next up we need to convert some of the data to make it accessible"
   ]
  },
  {
   "cell_type": "code",
   "execution_count": 132,
   "metadata": {},
   "outputs": [
    {
     "name": "stdout",
     "output_type": "stream",
     "text": [
      "price                         object\n",
      "availability_365               int64\n",
      "host_response_time            object\n",
      "host_response_rate            object\n",
      "host_acceptance_rate          object\n",
      "host_is_superhost             object\n",
      "host_listings_count          float64\n",
      "host_total_listings_count    float64\n",
      "host_has_profile_pic          object\n",
      "host_identity_verified        object\n",
      "dtype: object\n"
     ]
    }
   ],
   "source": [
    "print(df_host.dtypes)"
   ]
  },
  {
   "cell_type": "code",
   "execution_count": 133,
   "metadata": {},
   "outputs": [
    {
     "name": "stdout",
     "output_type": "stream",
     "text": [
      "[nan 'within a few hours' 'within a day' 'within an hour'\n",
      " 'a few days or more']\n"
     ]
    }
   ],
   "source": [
    "print(df_host['host_response_time'].unique())"
   ]
  },
  {
   "cell_type": "code",
   "execution_count": 134,
   "metadata": {},
   "outputs": [],
   "source": [
    "# Price\n",
    "df_host.loc[:,'price'] = df_host.loc[:,'price'].str.replace(\"$\",\"\").str.replace(\",\",\"\").astype(np.float64)\n",
    "\n",
    "# host_response_time (here we rank the possible entries)\n",
    "d = {'within an hour': 1, 'within a few hours': 2, 'within a day': 3,\n",
    "       'a few days or more': 4, np.nan: np.nan}\n",
    "df_host.loc[:,'host_response_time'] = df_host.loc[:,'host_response_time'].map(d)\n",
    "\n",
    "# host_response_rate and _acceptance_rate\n",
    "df_host.loc[:,'host_response_rate'] = df_host.loc[:,'host_response_rate'].str.replace(\"%\",\"\").astype(np.float64)\n",
    "df_host.loc[:,'host_acceptance_rate'] = df_host.loc[:,'host_acceptance_rate'].str.replace(\"%\",\"\").astype(np.float64)\n",
    "\n",
    "# Boolean convertions (host_is_superhost, host_has_profile_pic, host_identity_verified)\n",
    "d = {'t': True, 'f': False, np.nan: np.nan}\n",
    "df_host.loc[:,'host_is_superhost'] = df_host.loc[:,'host_is_superhost'].map(d)\n",
    "df_host.loc[:,'host_has_profile_pic'] = df_host.loc[:,'host_has_profile_pic'].map(d)\n",
    "df_host.loc[:,'host_identity_verified'] = df_host.loc[:,'host_identity_verified'].map(d)"
   ]
  },
  {
   "cell_type": "markdown",
   "metadata": {},
   "source": [
    "Now we check them for NaNs and take car of them"
   ]
  },
  {
   "cell_type": "code",
   "execution_count": 135,
   "metadata": {},
   "outputs": [
    {
     "data": {
      "text/plain": [
       "True    397\n",
       "Name: host_has_profile_pic, dtype: int64"
      ]
     },
     "execution_count": 135,
     "metadata": {},
     "output_type": "execute_result"
    }
   ],
   "source": [
    "df_host['host_has_profile_pic'].value_counts()"
   ]
  },
  {
   "cell_type": "code",
   "execution_count": 243,
   "metadata": {},
   "outputs": [
    {
     "data": {
      "text/html": [
       "<div>\n",
       "<style scoped>\n",
       "    .dataframe tbody tr th:only-of-type {\n",
       "        vertical-align: middle;\n",
       "    }\n",
       "\n",
       "    .dataframe tbody tr th {\n",
       "        vertical-align: top;\n",
       "    }\n",
       "\n",
       "    .dataframe thead th {\n",
       "        text-align: right;\n",
       "    }\n",
       "</style>\n",
       "<table border=\"1\" class=\"dataframe\">\n",
       "  <thead>\n",
       "    <tr style=\"text-align: right;\">\n",
       "      <th></th>\n",
       "      <th>price</th>\n",
       "      <th>availability_365</th>\n",
       "      <th>host_response_time</th>\n",
       "      <th>host_response_rate</th>\n",
       "      <th>host_acceptance_rate</th>\n",
       "      <th>host_is_superhost</th>\n",
       "      <th>host_listings_count</th>\n",
       "      <th>host_total_listings_count</th>\n",
       "      <th>host_has_profile_pic</th>\n",
       "      <th>host_identity_verified</th>\n",
       "    </tr>\n",
       "  </thead>\n",
       "  <tbody>\n",
       "    <tr>\n",
       "      <th>2575</th>\n",
       "      <td>50.0</td>\n",
       "      <td>109</td>\n",
       "      <td>NaN</td>\n",
       "      <td>NaN</td>\n",
       "      <td>NaN</td>\n",
       "      <td>False</td>\n",
       "      <td>1.0</td>\n",
       "      <td>1.0</td>\n",
       "      <td>True</td>\n",
       "      <td>False</td>\n",
       "    </tr>\n",
       "    <tr>\n",
       "      <th>2576</th>\n",
       "      <td>59.0</td>\n",
       "      <td>365</td>\n",
       "      <td>2.0</td>\n",
       "      <td>100.0</td>\n",
       "      <td>100.0</td>\n",
       "      <td>False</td>\n",
       "      <td>2.0</td>\n",
       "      <td>2.0</td>\n",
       "      <td>True</td>\n",
       "      <td>True</td>\n",
       "    </tr>\n",
       "    <tr>\n",
       "      <th>2577</th>\n",
       "      <td>122.0</td>\n",
       "      <td>179</td>\n",
       "      <td>3.0</td>\n",
       "      <td>50.0</td>\n",
       "      <td>100.0</td>\n",
       "      <td>False</td>\n",
       "      <td>1.0</td>\n",
       "      <td>1.0</td>\n",
       "      <td>True</td>\n",
       "      <td>True</td>\n",
       "    </tr>\n",
       "    <tr>\n",
       "      <th>2578</th>\n",
       "      <td>175.0</td>\n",
       "      <td>58</td>\n",
       "      <td>2.0</td>\n",
       "      <td>100.0</td>\n",
       "      <td>100.0</td>\n",
       "      <td>False</td>\n",
       "      <td>1.0</td>\n",
       "      <td>1.0</td>\n",
       "      <td>True</td>\n",
       "      <td>True</td>\n",
       "    </tr>\n",
       "    <tr>\n",
       "      <th>2579</th>\n",
       "      <td>69.0</td>\n",
       "      <td>352</td>\n",
       "      <td>2.0</td>\n",
       "      <td>100.0</td>\n",
       "      <td>100.0</td>\n",
       "      <td>True</td>\n",
       "      <td>1.0</td>\n",
       "      <td>1.0</td>\n",
       "      <td>True</td>\n",
       "      <td>True</td>\n",
       "    </tr>\n",
       "  </tbody>\n",
       "</table>\n",
       "</div>"
      ],
      "text/plain": [
       "      price  availability_365  host_response_time  host_response_rate  \\\n",
       "2575   50.0               109                 NaN                 NaN   \n",
       "2576   59.0               365                 2.0               100.0   \n",
       "2577  122.0               179                 3.0                50.0   \n",
       "2578  175.0                58                 2.0               100.0   \n",
       "2579   69.0               352                 2.0               100.0   \n",
       "\n",
       "      host_acceptance_rate host_is_superhost  host_listings_count  \\\n",
       "2575                   NaN             False                  1.0   \n",
       "2576                 100.0             False                  2.0   \n",
       "2577                 100.0             False                  1.0   \n",
       "2578                 100.0             False                  1.0   \n",
       "2579                 100.0              True                  1.0   \n",
       "\n",
       "      host_total_listings_count host_has_profile_pic host_identity_verified  \n",
       "2575                        1.0                 True                  False  \n",
       "2576                        2.0                 True                   True  \n",
       "2577                        1.0                 True                   True  \n",
       "2578                        1.0                 True                   True  \n",
       "2579                        1.0                 True                   True  "
      ]
     },
     "execution_count": 243,
     "metadata": {},
     "output_type": "execute_result"
    }
   ],
   "source": [
    "df_host.head()"
   ]
  },
  {
   "cell_type": "code",
   "execution_count": 244,
   "metadata": {},
   "outputs": [
    {
     "data": {
      "text/plain": [
       "price                        0.000000\n",
       "availability_365             0.000000\n",
       "host_response_time           0.166247\n",
       "host_response_rate           0.166247\n",
       "host_acceptance_rate         0.204030\n",
       "host_is_superhost            0.000000\n",
       "host_listings_count          0.000000\n",
       "host_total_listings_count    0.000000\n",
       "host_has_profile_pic         0.000000\n",
       "host_identity_verified       0.000000\n",
       "dtype: float64"
      ]
     },
     "execution_count": 244,
     "metadata": {},
     "output_type": "execute_result"
    }
   ],
   "source": [
    "df_host.isnull().mean()"
   ]
  },
  {
   "cell_type": "markdown",
   "metadata": {},
   "source": [
    "Overall we don't have to much NaNs and we impute the missing values with the mean of the respective column. Since the boolean columns don't have many missing values, we just drop them, since taking the mean doesn't really make sense in this case."
   ]
  },
  {
   "cell_type": "code",
   "execution_count": 245,
   "metadata": {},
   "outputs": [],
   "source": [
    "df_host.dropna(subset=['host_is_superhost', 'host_has_profile_pic', 'host_identity_verified'], axis=0, inplace=True)"
   ]
  },
  {
   "cell_type": "code",
   "execution_count": 246,
   "metadata": {},
   "outputs": [],
   "source": [
    "for col in df_host.columns:\n",
    "    df_host[col] = df_host[col].fillna(df_host[col].mean())"
   ]
  },
  {
   "cell_type": "code",
   "execution_count": 247,
   "metadata": {},
   "outputs": [
    {
     "name": "stderr",
     "output_type": "stream",
     "text": [
      "C:\\Custom\\Anaconda\\envs\\algo\\lib\\site-packages\\matplotlib\\colors.py:527: RuntimeWarning: invalid value encountered in less\n",
      "  xa[xa < 0] = -1\n",
      "C:\\Custom\\Anaconda\\envs\\algo\\lib\\site-packages\\pandas\\io\\formats\\style.py:1089: RuntimeWarning: All-NaN slice encountered\n",
      "  smin = np.nanmin(s.to_numpy()) if vmin is None else vmin\n",
      "C:\\Custom\\Anaconda\\envs\\algo\\lib\\site-packages\\pandas\\io\\formats\\style.py:1090: RuntimeWarning: All-NaN slice encountered\n",
      "  smax = np.nanmax(s.to_numpy()) if vmax is None else vmax\n"
     ]
    },
    {
     "data": {
      "text/html": [
       "<style  type=\"text/css\" >\n",
       "    #T_12aed8c6_d370_11eb_be53_3800251dfb9arow0_col0 {\n",
       "            background-color:  #b40426;\n",
       "            color:  #f1f1f1;\n",
       "        }    #T_12aed8c6_d370_11eb_be53_3800251dfb9arow0_col1 {\n",
       "            background-color:  #80a3fa;\n",
       "            color:  #000000;\n",
       "        }    #T_12aed8c6_d370_11eb_be53_3800251dfb9arow0_col2 {\n",
       "            background-color:  #c0d4f5;\n",
       "            color:  #000000;\n",
       "        }    #T_12aed8c6_d370_11eb_be53_3800251dfb9arow0_col3 {\n",
       "            background-color:  #b3cdfb;\n",
       "            color:  #000000;\n",
       "        }    #T_12aed8c6_d370_11eb_be53_3800251dfb9arow0_col4 {\n",
       "            background-color:  #5977e3;\n",
       "            color:  #000000;\n",
       "        }    #T_12aed8c6_d370_11eb_be53_3800251dfb9arow0_col5 {\n",
       "            background-color:  #90b2fe;\n",
       "            color:  #000000;\n",
       "        }    #T_12aed8c6_d370_11eb_be53_3800251dfb9arow0_col6 {\n",
       "            background-color:  #5e7de7;\n",
       "            color:  #000000;\n",
       "        }    #T_12aed8c6_d370_11eb_be53_3800251dfb9arow0_col7 {\n",
       "            background-color:  #5e7de7;\n",
       "            color:  #000000;\n",
       "        }    #T_12aed8c6_d370_11eb_be53_3800251dfb9arow0_col8 {\n",
       "            background-color:  #3b4cc0;\n",
       "            color:  #f1f1f1;\n",
       "        }    #T_12aed8c6_d370_11eb_be53_3800251dfb9arow0_col9 {\n",
       "            background-color:  #485fd1;\n",
       "            color:  #f1f1f1;\n",
       "        }    #T_12aed8c6_d370_11eb_be53_3800251dfb9arow1_col0 {\n",
       "            background-color:  #4c66d6;\n",
       "            color:  #000000;\n",
       "        }    #T_12aed8c6_d370_11eb_be53_3800251dfb9arow1_col1 {\n",
       "            background-color:  #b40426;\n",
       "            color:  #f1f1f1;\n",
       "        }    #T_12aed8c6_d370_11eb_be53_3800251dfb9arow1_col2 {\n",
       "            background-color:  #97b8ff;\n",
       "            color:  #000000;\n",
       "        }    #T_12aed8c6_d370_11eb_be53_3800251dfb9arow1_col3 {\n",
       "            background-color:  #8fb1fe;\n",
       "            color:  #000000;\n",
       "        }    #T_12aed8c6_d370_11eb_be53_3800251dfb9arow1_col4 {\n",
       "            background-color:  #485fd1;\n",
       "            color:  #f1f1f1;\n",
       "        }    #T_12aed8c6_d370_11eb_be53_3800251dfb9arow1_col5 {\n",
       "            background-color:  #3b4cc0;\n",
       "            color:  #f1f1f1;\n",
       "        }    #T_12aed8c6_d370_11eb_be53_3800251dfb9arow1_col6 {\n",
       "            background-color:  #7b9ff9;\n",
       "            color:  #000000;\n",
       "        }    #T_12aed8c6_d370_11eb_be53_3800251dfb9arow1_col7 {\n",
       "            background-color:  #7b9ff9;\n",
       "            color:  #000000;\n",
       "        }    #T_12aed8c6_d370_11eb_be53_3800251dfb9arow1_col8 {\n",
       "            background-color:  #3b4cc0;\n",
       "            color:  #f1f1f1;\n",
       "        }    #T_12aed8c6_d370_11eb_be53_3800251dfb9arow1_col9 {\n",
       "            background-color:  #5673e0;\n",
       "            color:  #000000;\n",
       "        }    #T_12aed8c6_d370_11eb_be53_3800251dfb9arow2_col0 {\n",
       "            background-color:  #6180e9;\n",
       "            color:  #000000;\n",
       "        }    #T_12aed8c6_d370_11eb_be53_3800251dfb9arow2_col1 {\n",
       "            background-color:  #5d7ce6;\n",
       "            color:  #000000;\n",
       "        }    #T_12aed8c6_d370_11eb_be53_3800251dfb9arow2_col2 {\n",
       "            background-color:  #b40426;\n",
       "            color:  #f1f1f1;\n",
       "        }    #T_12aed8c6_d370_11eb_be53_3800251dfb9arow2_col3 {\n",
       "            background-color:  #3b4cc0;\n",
       "            color:  #f1f1f1;\n",
       "        }    #T_12aed8c6_d370_11eb_be53_3800251dfb9arow2_col4 {\n",
       "            background-color:  #3b4cc0;\n",
       "            color:  #f1f1f1;\n",
       "        }    #T_12aed8c6_d370_11eb_be53_3800251dfb9arow2_col5 {\n",
       "            background-color:  #4a63d3;\n",
       "            color:  #f1f1f1;\n",
       "        }    #T_12aed8c6_d370_11eb_be53_3800251dfb9arow2_col6 {\n",
       "            background-color:  #3b4cc0;\n",
       "            color:  #f1f1f1;\n",
       "        }    #T_12aed8c6_d370_11eb_be53_3800251dfb9arow2_col7 {\n",
       "            background-color:  #3b4cc0;\n",
       "            color:  #f1f1f1;\n",
       "        }    #T_12aed8c6_d370_11eb_be53_3800251dfb9arow2_col8 {\n",
       "            background-color:  #3b4cc0;\n",
       "            color:  #f1f1f1;\n",
       "        }    #T_12aed8c6_d370_11eb_be53_3800251dfb9arow2_col9 {\n",
       "            background-color:  #3b4cc0;\n",
       "            color:  #f1f1f1;\n",
       "        }    #T_12aed8c6_d370_11eb_be53_3800251dfb9arow3_col0 {\n",
       "            background-color:  #4e68d8;\n",
       "            color:  #000000;\n",
       "        }    #T_12aed8c6_d370_11eb_be53_3800251dfb9arow3_col1 {\n",
       "            background-color:  #5470de;\n",
       "            color:  #000000;\n",
       "        }    #T_12aed8c6_d370_11eb_be53_3800251dfb9arow3_col2 {\n",
       "            background-color:  #3b4cc0;\n",
       "            color:  #f1f1f1;\n",
       "        }    #T_12aed8c6_d370_11eb_be53_3800251dfb9arow3_col3 {\n",
       "            background-color:  #b40426;\n",
       "            color:  #f1f1f1;\n",
       "        }    #T_12aed8c6_d370_11eb_be53_3800251dfb9arow3_col4 {\n",
       "            background-color:  #4e68d8;\n",
       "            color:  #000000;\n",
       "        }    #T_12aed8c6_d370_11eb_be53_3800251dfb9arow3_col5 {\n",
       "            background-color:  #8badfd;\n",
       "            color:  #000000;\n",
       "        }    #T_12aed8c6_d370_11eb_be53_3800251dfb9arow3_col6 {\n",
       "            background-color:  #5b7ae5;\n",
       "            color:  #000000;\n",
       "        }    #T_12aed8c6_d370_11eb_be53_3800251dfb9arow3_col7 {\n",
       "            background-color:  #5b7ae5;\n",
       "            color:  #000000;\n",
       "        }    #T_12aed8c6_d370_11eb_be53_3800251dfb9arow3_col8 {\n",
       "            background-color:  #3b4cc0;\n",
       "            color:  #f1f1f1;\n",
       "        }    #T_12aed8c6_d370_11eb_be53_3800251dfb9arow3_col9 {\n",
       "            background-color:  #688aef;\n",
       "            color:  #000000;\n",
       "        }    #T_12aed8c6_d370_11eb_be53_3800251dfb9arow4_col0 {\n",
       "            background-color:  #4055c8;\n",
       "            color:  #f1f1f1;\n",
       "        }    #T_12aed8c6_d370_11eb_be53_3800251dfb9arow4_col1 {\n",
       "            background-color:  #6384eb;\n",
       "            color:  #000000;\n",
       "        }    #T_12aed8c6_d370_11eb_be53_3800251dfb9arow4_col2 {\n",
       "            background-color:  #90b2fe;\n",
       "            color:  #000000;\n",
       "        }    #T_12aed8c6_d370_11eb_be53_3800251dfb9arow4_col3 {\n",
       "            background-color:  #a1c0ff;\n",
       "            color:  #000000;\n",
       "        }    #T_12aed8c6_d370_11eb_be53_3800251dfb9arow4_col4 {\n",
       "            background-color:  #b40426;\n",
       "            color:  #f1f1f1;\n",
       "        }    #T_12aed8c6_d370_11eb_be53_3800251dfb9arow4_col5 {\n",
       "            background-color:  #779af7;\n",
       "            color:  #000000;\n",
       "        }    #T_12aed8c6_d370_11eb_be53_3800251dfb9arow4_col6 {\n",
       "            background-color:  #5977e3;\n",
       "            color:  #000000;\n",
       "        }    #T_12aed8c6_d370_11eb_be53_3800251dfb9arow4_col7 {\n",
       "            background-color:  #5977e3;\n",
       "            color:  #000000;\n",
       "        }    #T_12aed8c6_d370_11eb_be53_3800251dfb9arow4_col8 {\n",
       "            background-color:  #3b4cc0;\n",
       "            color:  #f1f1f1;\n",
       "        }    #T_12aed8c6_d370_11eb_be53_3800251dfb9arow4_col9 {\n",
       "            background-color:  #688aef;\n",
       "            color:  #000000;\n",
       "        }    #T_12aed8c6_d370_11eb_be53_3800251dfb9arow5_col0 {\n",
       "            background-color:  #5e7de7;\n",
       "            color:  #000000;\n",
       "        }    #T_12aed8c6_d370_11eb_be53_3800251dfb9arow5_col1 {\n",
       "            background-color:  #3b4cc0;\n",
       "            color:  #f1f1f1;\n",
       "        }    #T_12aed8c6_d370_11eb_be53_3800251dfb9arow5_col2 {\n",
       "            background-color:  #85a8fc;\n",
       "            color:  #000000;\n",
       "        }    #T_12aed8c6_d370_11eb_be53_3800251dfb9arow5_col3 {\n",
       "            background-color:  #bcd2f7;\n",
       "            color:  #000000;\n",
       "        }    #T_12aed8c6_d370_11eb_be53_3800251dfb9arow5_col4 {\n",
       "            background-color:  #5b7ae5;\n",
       "            color:  #000000;\n",
       "        }    #T_12aed8c6_d370_11eb_be53_3800251dfb9arow5_col5 {\n",
       "            background-color:  #b40426;\n",
       "            color:  #f1f1f1;\n",
       "        }    #T_12aed8c6_d370_11eb_be53_3800251dfb9arow5_col6 {\n",
       "            background-color:  #4f69d9;\n",
       "            color:  #000000;\n",
       "        }    #T_12aed8c6_d370_11eb_be53_3800251dfb9arow5_col7 {\n",
       "            background-color:  #4f69d9;\n",
       "            color:  #000000;\n",
       "        }    #T_12aed8c6_d370_11eb_be53_3800251dfb9arow5_col8 {\n",
       "            background-color:  #3b4cc0;\n",
       "            color:  #f1f1f1;\n",
       "        }    #T_12aed8c6_d370_11eb_be53_3800251dfb9arow5_col9 {\n",
       "            background-color:  #6a8bef;\n",
       "            color:  #000000;\n",
       "        }    #T_12aed8c6_d370_11eb_be53_3800251dfb9arow6_col0 {\n",
       "            background-color:  #485fd1;\n",
       "            color:  #f1f1f1;\n",
       "        }    #T_12aed8c6_d370_11eb_be53_3800251dfb9arow6_col1 {\n",
       "            background-color:  #96b7ff;\n",
       "            color:  #000000;\n",
       "        }    #T_12aed8c6_d370_11eb_be53_3800251dfb9arow6_col2 {\n",
       "            background-color:  #92b4fe;\n",
       "            color:  #000000;\n",
       "        }    #T_12aed8c6_d370_11eb_be53_3800251dfb9arow6_col3 {\n",
       "            background-color:  #adc9fd;\n",
       "            color:  #000000;\n",
       "        }    #T_12aed8c6_d370_11eb_be53_3800251dfb9arow6_col4 {\n",
       "            background-color:  #5977e3;\n",
       "            color:  #000000;\n",
       "        }    #T_12aed8c6_d370_11eb_be53_3800251dfb9arow6_col5 {\n",
       "            background-color:  #6b8df0;\n",
       "            color:  #000000;\n",
       "        }    #T_12aed8c6_d370_11eb_be53_3800251dfb9arow6_col6 {\n",
       "            background-color:  #b40426;\n",
       "            color:  #f1f1f1;\n",
       "        }    #T_12aed8c6_d370_11eb_be53_3800251dfb9arow6_col7 {\n",
       "            background-color:  #b40426;\n",
       "            color:  #f1f1f1;\n",
       "        }    #T_12aed8c6_d370_11eb_be53_3800251dfb9arow6_col8 {\n",
       "            background-color:  #3b4cc0;\n",
       "            color:  #f1f1f1;\n",
       "        }    #T_12aed8c6_d370_11eb_be53_3800251dfb9arow6_col9 {\n",
       "            background-color:  #6687ed;\n",
       "            color:  #000000;\n",
       "        }    #T_12aed8c6_d370_11eb_be53_3800251dfb9arow7_col0 {\n",
       "            background-color:  #485fd1;\n",
       "            color:  #f1f1f1;\n",
       "        }    #T_12aed8c6_d370_11eb_be53_3800251dfb9arow7_col1 {\n",
       "            background-color:  #96b7ff;\n",
       "            color:  #000000;\n",
       "        }    #T_12aed8c6_d370_11eb_be53_3800251dfb9arow7_col2 {\n",
       "            background-color:  #92b4fe;\n",
       "            color:  #000000;\n",
       "        }    #T_12aed8c6_d370_11eb_be53_3800251dfb9arow7_col3 {\n",
       "            background-color:  #adc9fd;\n",
       "            color:  #000000;\n",
       "        }    #T_12aed8c6_d370_11eb_be53_3800251dfb9arow7_col4 {\n",
       "            background-color:  #5977e3;\n",
       "            color:  #000000;\n",
       "        }    #T_12aed8c6_d370_11eb_be53_3800251dfb9arow7_col5 {\n",
       "            background-color:  #6b8df0;\n",
       "            color:  #000000;\n",
       "        }    #T_12aed8c6_d370_11eb_be53_3800251dfb9arow7_col6 {\n",
       "            background-color:  #b40426;\n",
       "            color:  #f1f1f1;\n",
       "        }    #T_12aed8c6_d370_11eb_be53_3800251dfb9arow7_col7 {\n",
       "            background-color:  #b40426;\n",
       "            color:  #f1f1f1;\n",
       "        }    #T_12aed8c6_d370_11eb_be53_3800251dfb9arow7_col8 {\n",
       "            background-color:  #3b4cc0;\n",
       "            color:  #f1f1f1;\n",
       "        }    #T_12aed8c6_d370_11eb_be53_3800251dfb9arow7_col9 {\n",
       "            background-color:  #6687ed;\n",
       "            color:  #000000;\n",
       "        }    #T_12aed8c6_d370_11eb_be53_3800251dfb9arow8_col0 {\n",
       "            background-color:  #3b4cc0;\n",
       "            color:  #f1f1f1;\n",
       "        }    #T_12aed8c6_d370_11eb_be53_3800251dfb9arow8_col1 {\n",
       "            background-color:  #3b4cc0;\n",
       "            color:  #f1f1f1;\n",
       "        }    #T_12aed8c6_d370_11eb_be53_3800251dfb9arow8_col2 {\n",
       "            background-color:  #3b4cc0;\n",
       "            color:  #f1f1f1;\n",
       "        }    #T_12aed8c6_d370_11eb_be53_3800251dfb9arow8_col3 {\n",
       "            background-color:  #3b4cc0;\n",
       "            color:  #f1f1f1;\n",
       "        }    #T_12aed8c6_d370_11eb_be53_3800251dfb9arow8_col4 {\n",
       "            background-color:  #3b4cc0;\n",
       "            color:  #f1f1f1;\n",
       "        }    #T_12aed8c6_d370_11eb_be53_3800251dfb9arow8_col5 {\n",
       "            background-color:  #3b4cc0;\n",
       "            color:  #f1f1f1;\n",
       "        }    #T_12aed8c6_d370_11eb_be53_3800251dfb9arow8_col6 {\n",
       "            background-color:  #3b4cc0;\n",
       "            color:  #f1f1f1;\n",
       "        }    #T_12aed8c6_d370_11eb_be53_3800251dfb9arow8_col7 {\n",
       "            background-color:  #3b4cc0;\n",
       "            color:  #f1f1f1;\n",
       "        }    #T_12aed8c6_d370_11eb_be53_3800251dfb9arow8_col8 {\n",
       "            background-color:  #3b4cc0;\n",
       "            color:  #f1f1f1;\n",
       "        }    #T_12aed8c6_d370_11eb_be53_3800251dfb9arow8_col9 {\n",
       "            background-color:  #3b4cc0;\n",
       "            color:  #f1f1f1;\n",
       "        }    #T_12aed8c6_d370_11eb_be53_3800251dfb9arow9_col0 {\n",
       "            background-color:  #3b4cc0;\n",
       "            color:  #f1f1f1;\n",
       "        }    #T_12aed8c6_d370_11eb_be53_3800251dfb9arow9_col1 {\n",
       "            background-color:  #7da0f9;\n",
       "            color:  #000000;\n",
       "        }    #T_12aed8c6_d370_11eb_be53_3800251dfb9arow9_col2 {\n",
       "            background-color:  #9abbff;\n",
       "            color:  #000000;\n",
       "        }    #T_12aed8c6_d370_11eb_be53_3800251dfb9arow9_col3 {\n",
       "            background-color:  #bed2f6;\n",
       "            color:  #000000;\n",
       "        }    #T_12aed8c6_d370_11eb_be53_3800251dfb9arow9_col4 {\n",
       "            background-color:  #7396f5;\n",
       "            color:  #000000;\n",
       "        }    #T_12aed8c6_d370_11eb_be53_3800251dfb9arow9_col5 {\n",
       "            background-color:  #8db0fe;\n",
       "            color:  #000000;\n",
       "        }    #T_12aed8c6_d370_11eb_be53_3800251dfb9arow9_col6 {\n",
       "            background-color:  #6f92f3;\n",
       "            color:  #000000;\n",
       "        }    #T_12aed8c6_d370_11eb_be53_3800251dfb9arow9_col7 {\n",
       "            background-color:  #6f92f3;\n",
       "            color:  #000000;\n",
       "        }    #T_12aed8c6_d370_11eb_be53_3800251dfb9arow9_col8 {\n",
       "            background-color:  #3b4cc0;\n",
       "            color:  #f1f1f1;\n",
       "        }    #T_12aed8c6_d370_11eb_be53_3800251dfb9arow9_col9 {\n",
       "            background-color:  #b40426;\n",
       "            color:  #f1f1f1;\n",
       "        }</style><table id=\"T_12aed8c6_d370_11eb_be53_3800251dfb9a\" ><thead>    <tr>        <th class=\"blank level0\" ></th>        <th class=\"col_heading level0 col0\" >price</th>        <th class=\"col_heading level0 col1\" >availability_365</th>        <th class=\"col_heading level0 col2\" >host_response_time</th>        <th class=\"col_heading level0 col3\" >host_response_rate</th>        <th class=\"col_heading level0 col4\" >host_acceptance_rate</th>        <th class=\"col_heading level0 col5\" >host_is_superhost</th>        <th class=\"col_heading level0 col6\" >host_listings_count</th>        <th class=\"col_heading level0 col7\" >host_total_listings_count</th>        <th class=\"col_heading level0 col8\" >host_has_profile_pic</th>        <th class=\"col_heading level0 col9\" >host_identity_verified</th>    </tr></thead><tbody>\n",
       "                <tr>\n",
       "                        <th id=\"T_12aed8c6_d370_11eb_be53_3800251dfb9alevel0_row0\" class=\"row_heading level0 row0\" >price</th>\n",
       "                        <td id=\"T_12aed8c6_d370_11eb_be53_3800251dfb9arow0_col0\" class=\"data row0 col0\" >1.000000</td>\n",
       "                        <td id=\"T_12aed8c6_d370_11eb_be53_3800251dfb9arow0_col1\" class=\"data row0 col1\" >0.054082</td>\n",
       "                        <td id=\"T_12aed8c6_d370_11eb_be53_3800251dfb9arow0_col2\" class=\"data row0 col2\" >0.115551</td>\n",
       "                        <td id=\"T_12aed8c6_d370_11eb_be53_3800251dfb9arow0_col3\" class=\"data row0 col3\" >0.056323</td>\n",
       "                        <td id=\"T_12aed8c6_d370_11eb_be53_3800251dfb9arow0_col4\" class=\"data row0 col4\" >0.013950</td>\n",
       "                        <td id=\"T_12aed8c6_d370_11eb_be53_3800251dfb9arow0_col5\" class=\"data row0 col5\" >0.108374</td>\n",
       "                        <td id=\"T_12aed8c6_d370_11eb_be53_3800251dfb9arow0_col6\" class=\"data row0 col6\" >0.035574</td>\n",
       "                        <td id=\"T_12aed8c6_d370_11eb_be53_3800251dfb9arow0_col7\" class=\"data row0 col7\" >0.035574</td>\n",
       "                        <td id=\"T_12aed8c6_d370_11eb_be53_3800251dfb9arow0_col8\" class=\"data row0 col8\" >nan</td>\n",
       "                        <td id=\"T_12aed8c6_d370_11eb_be53_3800251dfb9arow0_col9\" class=\"data row0 col9\" >-0.008847</td>\n",
       "            </tr>\n",
       "            <tr>\n",
       "                        <th id=\"T_12aed8c6_d370_11eb_be53_3800251dfb9alevel0_row1\" class=\"row_heading level0 row1\" >availability_365</th>\n",
       "                        <td id=\"T_12aed8c6_d370_11eb_be53_3800251dfb9arow1_col0\" class=\"data row1 col0\" >0.054082</td>\n",
       "                        <td id=\"T_12aed8c6_d370_11eb_be53_3800251dfb9arow1_col1\" class=\"data row1 col1\" >1.000000</td>\n",
       "                        <td id=\"T_12aed8c6_d370_11eb_be53_3800251dfb9arow1_col2\" class=\"data row1 col2\" >-0.067166</td>\n",
       "                        <td id=\"T_12aed8c6_d370_11eb_be53_3800251dfb9arow1_col3\" class=\"data row1 col3\" >-0.098724</td>\n",
       "                        <td id=\"T_12aed8c6_d370_11eb_be53_3800251dfb9arow1_col4\" class=\"data row1 col4\" >-0.045225</td>\n",
       "                        <td id=\"T_12aed8c6_d370_11eb_be53_3800251dfb9arow1_col5\" class=\"data row1 col5\" >-0.201789</td>\n",
       "                        <td id=\"T_12aed8c6_d370_11eb_be53_3800251dfb9arow1_col6\" class=\"data row1 col6\" >0.127513</td>\n",
       "                        <td id=\"T_12aed8c6_d370_11eb_be53_3800251dfb9arow1_col7\" class=\"data row1 col7\" >0.127513</td>\n",
       "                        <td id=\"T_12aed8c6_d370_11eb_be53_3800251dfb9arow1_col8\" class=\"data row1 col8\" >nan</td>\n",
       "                        <td id=\"T_12aed8c6_d370_11eb_be53_3800251dfb9arow1_col9\" class=\"data row1 col9\" >0.042729</td>\n",
       "            </tr>\n",
       "            <tr>\n",
       "                        <th id=\"T_12aed8c6_d370_11eb_be53_3800251dfb9alevel0_row2\" class=\"row_heading level0 row2\" >host_response_time</th>\n",
       "                        <td id=\"T_12aed8c6_d370_11eb_be53_3800251dfb9arow2_col0\" class=\"data row2 col0\" >0.115551</td>\n",
       "                        <td id=\"T_12aed8c6_d370_11eb_be53_3800251dfb9arow2_col1\" class=\"data row2 col1\" >-0.067166</td>\n",
       "                        <td id=\"T_12aed8c6_d370_11eb_be53_3800251dfb9arow2_col2\" class=\"data row2 col2\" >1.000000</td>\n",
       "                        <td id=\"T_12aed8c6_d370_11eb_be53_3800251dfb9arow2_col3\" class=\"data row2 col3\" >-0.479328</td>\n",
       "                        <td id=\"T_12aed8c6_d370_11eb_be53_3800251dfb9arow2_col4\" class=\"data row2 col4\" >-0.093071</td>\n",
       "                        <td id=\"T_12aed8c6_d370_11eb_be53_3800251dfb9arow2_col5\" class=\"data row2 col5\" >-0.140716</td>\n",
       "                        <td id=\"T_12aed8c6_d370_11eb_be53_3800251dfb9arow2_col6\" class=\"data row2 col6\" >-0.092067</td>\n",
       "                        <td id=\"T_12aed8c6_d370_11eb_be53_3800251dfb9arow2_col7\" class=\"data row2 col7\" >-0.092067</td>\n",
       "                        <td id=\"T_12aed8c6_d370_11eb_be53_3800251dfb9arow2_col8\" class=\"data row2 col8\" >nan</td>\n",
       "                        <td id=\"T_12aed8c6_d370_11eb_be53_3800251dfb9arow2_col9\" class=\"data row2 col9\" >-0.056169</td>\n",
       "            </tr>\n",
       "            <tr>\n",
       "                        <th id=\"T_12aed8c6_d370_11eb_be53_3800251dfb9alevel0_row3\" class=\"row_heading level0 row3\" >host_response_rate</th>\n",
       "                        <td id=\"T_12aed8c6_d370_11eb_be53_3800251dfb9arow3_col0\" class=\"data row3 col0\" >0.056323</td>\n",
       "                        <td id=\"T_12aed8c6_d370_11eb_be53_3800251dfb9arow3_col1\" class=\"data row3 col1\" >-0.098724</td>\n",
       "                        <td id=\"T_12aed8c6_d370_11eb_be53_3800251dfb9arow3_col2\" class=\"data row3 col2\" >-0.479328</td>\n",
       "                        <td id=\"T_12aed8c6_d370_11eb_be53_3800251dfb9arow3_col3\" class=\"data row3 col3\" >1.000000</td>\n",
       "                        <td id=\"T_12aed8c6_d370_11eb_be53_3800251dfb9arow3_col4\" class=\"data row3 col4\" >-0.023411</td>\n",
       "                        <td id=\"T_12aed8c6_d370_11eb_be53_3800251dfb9arow3_col5\" class=\"data row3 col5\" >0.093224</td>\n",
       "                        <td id=\"T_12aed8c6_d370_11eb_be53_3800251dfb9arow3_col6\" class=\"data row3 col6\" >0.024147</td>\n",
       "                        <td id=\"T_12aed8c6_d370_11eb_be53_3800251dfb9arow3_col7\" class=\"data row3 col7\" >0.024147</td>\n",
       "                        <td id=\"T_12aed8c6_d370_11eb_be53_3800251dfb9arow3_col8\" class=\"data row3 col8\" >nan</td>\n",
       "                        <td id=\"T_12aed8c6_d370_11eb_be53_3800251dfb9arow3_col9\" class=\"data row3 col9\" >0.098967</td>\n",
       "            </tr>\n",
       "            <tr>\n",
       "                        <th id=\"T_12aed8c6_d370_11eb_be53_3800251dfb9alevel0_row4\" class=\"row_heading level0 row4\" >host_acceptance_rate</th>\n",
       "                        <td id=\"T_12aed8c6_d370_11eb_be53_3800251dfb9arow4_col0\" class=\"data row4 col0\" >0.013950</td>\n",
       "                        <td id=\"T_12aed8c6_d370_11eb_be53_3800251dfb9arow4_col1\" class=\"data row4 col1\" >-0.045225</td>\n",
       "                        <td id=\"T_12aed8c6_d370_11eb_be53_3800251dfb9arow4_col2\" class=\"data row4 col2\" >-0.093071</td>\n",
       "                        <td id=\"T_12aed8c6_d370_11eb_be53_3800251dfb9arow4_col3\" class=\"data row4 col3\" >-0.023411</td>\n",
       "                        <td id=\"T_12aed8c6_d370_11eb_be53_3800251dfb9arow4_col4\" class=\"data row4 col4\" >1.000000</td>\n",
       "                        <td id=\"T_12aed8c6_d370_11eb_be53_3800251dfb9arow4_col5\" class=\"data row4 col5\" >0.024149</td>\n",
       "                        <td id=\"T_12aed8c6_d370_11eb_be53_3800251dfb9arow4_col6\" class=\"data row4 col6\" >0.014690</td>\n",
       "                        <td id=\"T_12aed8c6_d370_11eb_be53_3800251dfb9arow4_col7\" class=\"data row4 col7\" >0.014690</td>\n",
       "                        <td id=\"T_12aed8c6_d370_11eb_be53_3800251dfb9arow4_col8\" class=\"data row4 col8\" >nan</td>\n",
       "                        <td id=\"T_12aed8c6_d370_11eb_be53_3800251dfb9arow4_col9\" class=\"data row4 col9\" >0.100368</td>\n",
       "            </tr>\n",
       "            <tr>\n",
       "                        <th id=\"T_12aed8c6_d370_11eb_be53_3800251dfb9alevel0_row5\" class=\"row_heading level0 row5\" >host_is_superhost</th>\n",
       "                        <td id=\"T_12aed8c6_d370_11eb_be53_3800251dfb9arow5_col0\" class=\"data row5 col0\" >0.108374</td>\n",
       "                        <td id=\"T_12aed8c6_d370_11eb_be53_3800251dfb9arow5_col1\" class=\"data row5 col1\" >-0.201789</td>\n",
       "                        <td id=\"T_12aed8c6_d370_11eb_be53_3800251dfb9arow5_col2\" class=\"data row5 col2\" >-0.140716</td>\n",
       "                        <td id=\"T_12aed8c6_d370_11eb_be53_3800251dfb9arow5_col3\" class=\"data row5 col3\" >0.093224</td>\n",
       "                        <td id=\"T_12aed8c6_d370_11eb_be53_3800251dfb9arow5_col4\" class=\"data row5 col4\" >0.024149</td>\n",
       "                        <td id=\"T_12aed8c6_d370_11eb_be53_3800251dfb9arow5_col5\" class=\"data row5 col5\" >1.000000</td>\n",
       "                        <td id=\"T_12aed8c6_d370_11eb_be53_3800251dfb9arow5_col6\" class=\"data row5 col6\" >-0.017627</td>\n",
       "                        <td id=\"T_12aed8c6_d370_11eb_be53_3800251dfb9arow5_col7\" class=\"data row5 col7\" >-0.017627</td>\n",
       "                        <td id=\"T_12aed8c6_d370_11eb_be53_3800251dfb9arow5_col8\" class=\"data row5 col8\" >nan</td>\n",
       "                        <td id=\"T_12aed8c6_d370_11eb_be53_3800251dfb9arow5_col9\" class=\"data row5 col9\" >0.101504</td>\n",
       "            </tr>\n",
       "            <tr>\n",
       "                        <th id=\"T_12aed8c6_d370_11eb_be53_3800251dfb9alevel0_row6\" class=\"row_heading level0 row6\" >host_listings_count</th>\n",
       "                        <td id=\"T_12aed8c6_d370_11eb_be53_3800251dfb9arow6_col0\" class=\"data row6 col0\" >0.035574</td>\n",
       "                        <td id=\"T_12aed8c6_d370_11eb_be53_3800251dfb9arow6_col1\" class=\"data row6 col1\" >0.127513</td>\n",
       "                        <td id=\"T_12aed8c6_d370_11eb_be53_3800251dfb9arow6_col2\" class=\"data row6 col2\" >-0.092067</td>\n",
       "                        <td id=\"T_12aed8c6_d370_11eb_be53_3800251dfb9arow6_col3\" class=\"data row6 col3\" >0.024147</td>\n",
       "                        <td id=\"T_12aed8c6_d370_11eb_be53_3800251dfb9arow6_col4\" class=\"data row6 col4\" >0.014690</td>\n",
       "                        <td id=\"T_12aed8c6_d370_11eb_be53_3800251dfb9arow6_col5\" class=\"data row6 col5\" >-0.017627</td>\n",
       "                        <td id=\"T_12aed8c6_d370_11eb_be53_3800251dfb9arow6_col6\" class=\"data row6 col6\" >1.000000</td>\n",
       "                        <td id=\"T_12aed8c6_d370_11eb_be53_3800251dfb9arow6_col7\" class=\"data row6 col7\" >1.000000</td>\n",
       "                        <td id=\"T_12aed8c6_d370_11eb_be53_3800251dfb9arow6_col8\" class=\"data row6 col8\" >nan</td>\n",
       "                        <td id=\"T_12aed8c6_d370_11eb_be53_3800251dfb9arow6_col9\" class=\"data row6 col9\" >0.088890</td>\n",
       "            </tr>\n",
       "            <tr>\n",
       "                        <th id=\"T_12aed8c6_d370_11eb_be53_3800251dfb9alevel0_row7\" class=\"row_heading level0 row7\" >host_total_listings_count</th>\n",
       "                        <td id=\"T_12aed8c6_d370_11eb_be53_3800251dfb9arow7_col0\" class=\"data row7 col0\" >0.035574</td>\n",
       "                        <td id=\"T_12aed8c6_d370_11eb_be53_3800251dfb9arow7_col1\" class=\"data row7 col1\" >0.127513</td>\n",
       "                        <td id=\"T_12aed8c6_d370_11eb_be53_3800251dfb9arow7_col2\" class=\"data row7 col2\" >-0.092067</td>\n",
       "                        <td id=\"T_12aed8c6_d370_11eb_be53_3800251dfb9arow7_col3\" class=\"data row7 col3\" >0.024147</td>\n",
       "                        <td id=\"T_12aed8c6_d370_11eb_be53_3800251dfb9arow7_col4\" class=\"data row7 col4\" >0.014690</td>\n",
       "                        <td id=\"T_12aed8c6_d370_11eb_be53_3800251dfb9arow7_col5\" class=\"data row7 col5\" >-0.017627</td>\n",
       "                        <td id=\"T_12aed8c6_d370_11eb_be53_3800251dfb9arow7_col6\" class=\"data row7 col6\" >1.000000</td>\n",
       "                        <td id=\"T_12aed8c6_d370_11eb_be53_3800251dfb9arow7_col7\" class=\"data row7 col7\" >1.000000</td>\n",
       "                        <td id=\"T_12aed8c6_d370_11eb_be53_3800251dfb9arow7_col8\" class=\"data row7 col8\" >nan</td>\n",
       "                        <td id=\"T_12aed8c6_d370_11eb_be53_3800251dfb9arow7_col9\" class=\"data row7 col9\" >0.088890</td>\n",
       "            </tr>\n",
       "            <tr>\n",
       "                        <th id=\"T_12aed8c6_d370_11eb_be53_3800251dfb9alevel0_row8\" class=\"row_heading level0 row8\" >host_has_profile_pic</th>\n",
       "                        <td id=\"T_12aed8c6_d370_11eb_be53_3800251dfb9arow8_col0\" class=\"data row8 col0\" >nan</td>\n",
       "                        <td id=\"T_12aed8c6_d370_11eb_be53_3800251dfb9arow8_col1\" class=\"data row8 col1\" >nan</td>\n",
       "                        <td id=\"T_12aed8c6_d370_11eb_be53_3800251dfb9arow8_col2\" class=\"data row8 col2\" >nan</td>\n",
       "                        <td id=\"T_12aed8c6_d370_11eb_be53_3800251dfb9arow8_col3\" class=\"data row8 col3\" >nan</td>\n",
       "                        <td id=\"T_12aed8c6_d370_11eb_be53_3800251dfb9arow8_col4\" class=\"data row8 col4\" >nan</td>\n",
       "                        <td id=\"T_12aed8c6_d370_11eb_be53_3800251dfb9arow8_col5\" class=\"data row8 col5\" >nan</td>\n",
       "                        <td id=\"T_12aed8c6_d370_11eb_be53_3800251dfb9arow8_col6\" class=\"data row8 col6\" >nan</td>\n",
       "                        <td id=\"T_12aed8c6_d370_11eb_be53_3800251dfb9arow8_col7\" class=\"data row8 col7\" >nan</td>\n",
       "                        <td id=\"T_12aed8c6_d370_11eb_be53_3800251dfb9arow8_col8\" class=\"data row8 col8\" >nan</td>\n",
       "                        <td id=\"T_12aed8c6_d370_11eb_be53_3800251dfb9arow8_col9\" class=\"data row8 col9\" >nan</td>\n",
       "            </tr>\n",
       "            <tr>\n",
       "                        <th id=\"T_12aed8c6_d370_11eb_be53_3800251dfb9alevel0_row9\" class=\"row_heading level0 row9\" >host_identity_verified</th>\n",
       "                        <td id=\"T_12aed8c6_d370_11eb_be53_3800251dfb9arow9_col0\" class=\"data row9 col0\" >-0.008847</td>\n",
       "                        <td id=\"T_12aed8c6_d370_11eb_be53_3800251dfb9arow9_col1\" class=\"data row9 col1\" >0.042729</td>\n",
       "                        <td id=\"T_12aed8c6_d370_11eb_be53_3800251dfb9arow9_col2\" class=\"data row9 col2\" >-0.056169</td>\n",
       "                        <td id=\"T_12aed8c6_d370_11eb_be53_3800251dfb9arow9_col3\" class=\"data row9 col3\" >0.098967</td>\n",
       "                        <td id=\"T_12aed8c6_d370_11eb_be53_3800251dfb9arow9_col4\" class=\"data row9 col4\" >0.100368</td>\n",
       "                        <td id=\"T_12aed8c6_d370_11eb_be53_3800251dfb9arow9_col5\" class=\"data row9 col5\" >0.101504</td>\n",
       "                        <td id=\"T_12aed8c6_d370_11eb_be53_3800251dfb9arow9_col6\" class=\"data row9 col6\" >0.088890</td>\n",
       "                        <td id=\"T_12aed8c6_d370_11eb_be53_3800251dfb9arow9_col7\" class=\"data row9 col7\" >0.088890</td>\n",
       "                        <td id=\"T_12aed8c6_d370_11eb_be53_3800251dfb9arow9_col8\" class=\"data row9 col8\" >nan</td>\n",
       "                        <td id=\"T_12aed8c6_d370_11eb_be53_3800251dfb9arow9_col9\" class=\"data row9 col9\" >1.000000</td>\n",
       "            </tr>\n",
       "    </tbody></table>"
      ],
      "text/plain": [
       "<pandas.io.formats.style.Styler at 0x24964a4ddc8>"
      ]
     },
     "execution_count": 247,
     "metadata": {},
     "output_type": "execute_result"
    }
   ],
   "source": [
    "corr = df_host.corr()\n",
    "corr.style.background_gradient(cmap='coolwarm')"
   ]
  },
  {
   "cell_type": "markdown",
   "metadata": {},
   "source": [
    "As we can see there is not much correlation between the host-information and the price. The highest correlation is with the response time, but with a value of .12 too low to be considered meaningful. Also, one would suggest that the correlation should be negative, since a lower response_time should be more valuable to the customer. The highest correlation between the occupancy is with the superhost attribute and lies at around 0.2. It's not really high, but it indicates that the superhost-attribute might boost your occupancy."
   ]
  },
  {
   "cell_type": "code",
   "execution_count": null,
   "metadata": {},
   "outputs": [],
   "source": []
  }
 ],
 "metadata": {
  "kernelspec": {
   "display_name": "Python 3",
   "language": "python",
   "name": "python3"
  },
  "language_info": {
   "codemirror_mode": {
    "name": "ipython",
    "version": 3
   },
   "file_extension": ".py",
   "mimetype": "text/x-python",
   "name": "python",
   "nbconvert_exporter": "python",
   "pygments_lexer": "ipython3",
   "version": "3.7.4"
  }
 },
 "nbformat": 4,
 "nbformat_minor": 4
}
